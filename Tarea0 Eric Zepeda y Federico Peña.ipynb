{
 "cells": [
  {
   "cell_type": "markdown",
   "metadata": {},
   "source": [
    "## Parte 2:\n",
    "\n",
    "## Job salary prediction\n",
    "Se trabajará con el problema de identificar cual es el sueldo que ofrecen los avisos, aunque no este de forma explicita.\n",
    "\n",
    "> a) Carge los datos csv de entrenamiento y cree un conjunto de validación con los últimos 10 mil datos en un dataframe de pandas. Describa los datos, apóyese de gráficos ¿Cuántos datos hay en cada conjunto?"
   ]
  },
  {
   "cell_type": "code",
   "execution_count": 1,
   "metadata": {},
   "outputs": [
    {
     "ename": "TypeError",
     "evalue": "'Series' object is not callable",
     "output_type": "error",
     "traceback": [
      "\u001b[1;31m---------------------------------------------------------------------------\u001b[0m",
      "\u001b[1;31mTypeError\u001b[0m                                 Traceback (most recent call last)",
      "\u001b[1;32m<ipython-input-1-edf417495f07>\u001b[0m in \u001b[0;36m<module>\u001b[1;34m()\u001b[0m\n\u001b[0;32m      3\u001b[0m \u001b[0mdf_train\u001b[0m \u001b[1;33m=\u001b[0m \u001b[0mdf\u001b[0m\u001b[1;33m.\u001b[0m\u001b[0miloc\u001b[0m\u001b[1;33m[\u001b[0m\u001b[1;33m:\u001b[0m\u001b[1;33m-\u001b[0m\u001b[1;36m10000\u001b[0m\u001b[1;33m]\u001b[0m\u001b[1;33m\u001b[0m\u001b[0m\n\u001b[0;32m      4\u001b[0m \u001b[0mdf_val\u001b[0m \u001b[1;33m=\u001b[0m \u001b[0mdf\u001b[0m\u001b[1;33m.\u001b[0m\u001b[0miloc\u001b[0m\u001b[1;33m[\u001b[0m\u001b[1;33m-\u001b[0m\u001b[1;36m10000\u001b[0m\u001b[1;33m:\u001b[0m\u001b[1;33m]\u001b[0m\u001b[1;33m\u001b[0m\u001b[0m\n\u001b[1;32m----> 5\u001b[1;33m \u001b[0mrows\u001b[0m \u001b[1;33m=\u001b[0m \u001b[1;33m[\u001b[0m\u001b[0mline\u001b[0m\u001b[1;33m.\u001b[0m\u001b[0msplit\u001b[0m\u001b[1;33m(\u001b[0m\u001b[1;34m\" \"\u001b[0m\u001b[1;33m,\u001b[0m\u001b[1;36m1\u001b[0m\u001b[1;33m)\u001b[0m \u001b[1;32mfor\u001b[0m \u001b[0mline\u001b[0m \u001b[1;32min\u001b[0m \u001b[0mdf_train\u001b[0m\u001b[1;33m[\u001b[0m\u001b[1;34m'FullDescription'\u001b[0m\u001b[1;33m]\u001b[0m\u001b[1;33m(\u001b[0m\u001b[1;33m)\u001b[0m\u001b[1;33m]\u001b[0m\u001b[1;33m\u001b[0m\u001b[0m\n\u001b[0m\u001b[0;32m      6\u001b[0m \u001b[1;33m\u001b[0m\u001b[0m\n\u001b[0;32m      7\u001b[0m \u001b[0mdf_train\u001b[0m\u001b[1;33m.\u001b[0m\u001b[0mshape\u001b[0m\u001b[1;33m\u001b[0m\u001b[0m\n",
      "\u001b[1;31mTypeError\u001b[0m: 'Series' object is not callable"
     ]
    }
   ],
   "source": [
    "import pandas as pd\n",
    "df = pd.read_csv(\"Train_rev1.csv\")\n",
    "df_train = df.iloc[:-10000]\n",
    "df_val = df.iloc[-10000:]\n",
    "rows = [line.split(\" \",1) for line in df_train['FullDescription']()]\n",
    "\n",
    "df_train.shape\n",
    "    "
   ]
  },
  {
   "cell_type": "code",
   "execution_count": 2,
   "metadata": {},
   "outputs": [
    {
     "name": "stdout",
     "output_type": "stream",
     "text": [
      "<class 'pandas.core.frame.DataFrame'>\n",
      "RangeIndex: 234768 entries, 0 to 234767\n",
      "Data columns (total 12 columns):\n",
      "Id                    234768 non-null int64\n",
      "Title                 234767 non-null object\n",
      "FullDescription       234768 non-null object\n",
      "LocationRaw           234768 non-null object\n",
      "LocationNormalized    234768 non-null object\n",
      "ContractType          62961 non-null object\n",
      "ContractTime          172816 non-null object\n",
      "Company               203031 non-null object\n",
      "Category              234768 non-null object\n",
      "SalaryRaw             234768 non-null object\n",
      "SalaryNormalized      234768 non-null int64\n",
      "SourceName            234767 non-null object\n",
      "dtypes: int64(2), object(10)\n",
      "memory usage: 21.5+ MB\n"
     ]
    }
   ],
   "source": [
    "df_train.info()"
   ]
  },
  {
   "cell_type": "code",
   "execution_count": 3,
   "metadata": {},
   "outputs": [
    {
     "data": {
      "text/html": [
       "<div>\n",
       "<style scoped>\n",
       "    .dataframe tbody tr th:only-of-type {\n",
       "        vertical-align: middle;\n",
       "    }\n",
       "\n",
       "    .dataframe tbody tr th {\n",
       "        vertical-align: top;\n",
       "    }\n",
       "\n",
       "    .dataframe thead th {\n",
       "        text-align: right;\n",
       "    }\n",
       "</style>\n",
       "<table border=\"1\" class=\"dataframe\">\n",
       "  <thead>\n",
       "    <tr style=\"text-align: right;\">\n",
       "      <th></th>\n",
       "      <th>Id</th>\n",
       "      <th>Title</th>\n",
       "      <th>FullDescription</th>\n",
       "      <th>LocationRaw</th>\n",
       "      <th>LocationNormalized</th>\n",
       "      <th>ContractType</th>\n",
       "      <th>ContractTime</th>\n",
       "      <th>Company</th>\n",
       "      <th>Category</th>\n",
       "      <th>SalaryRaw</th>\n",
       "      <th>SalaryNormalized</th>\n",
       "      <th>SourceName</th>\n",
       "    </tr>\n",
       "  </thead>\n",
       "  <tbody>\n",
       "    <tr>\n",
       "      <th>0</th>\n",
       "      <td>12612628</td>\n",
       "      <td>Engineering Systems Analyst</td>\n",
       "      <td>Engineering Systems Analyst Dorking Surrey Sal...</td>\n",
       "      <td>Dorking, Surrey, Surrey</td>\n",
       "      <td>Dorking</td>\n",
       "      <td>NaN</td>\n",
       "      <td>permanent</td>\n",
       "      <td>Gregory Martin International</td>\n",
       "      <td>Engineering Jobs</td>\n",
       "      <td>20000 - 30000/annum 20-30K</td>\n",
       "      <td>25000</td>\n",
       "      <td>cv-library.co.uk</td>\n",
       "    </tr>\n",
       "    <tr>\n",
       "      <th>1</th>\n",
       "      <td>12612830</td>\n",
       "      <td>Stress Engineer Glasgow</td>\n",
       "      <td>Stress Engineer Glasgow Salary **** to **** We...</td>\n",
       "      <td>Glasgow, Scotland, Scotland</td>\n",
       "      <td>Glasgow</td>\n",
       "      <td>NaN</td>\n",
       "      <td>permanent</td>\n",
       "      <td>Gregory Martin International</td>\n",
       "      <td>Engineering Jobs</td>\n",
       "      <td>25000 - 35000/annum 25-35K</td>\n",
       "      <td>30000</td>\n",
       "      <td>cv-library.co.uk</td>\n",
       "    </tr>\n",
       "    <tr>\n",
       "      <th>2</th>\n",
       "      <td>12612844</td>\n",
       "      <td>Modelling and simulation analyst</td>\n",
       "      <td>Mathematical Modeller / Simulation Analyst / O...</td>\n",
       "      <td>Hampshire, South East, South East</td>\n",
       "      <td>Hampshire</td>\n",
       "      <td>NaN</td>\n",
       "      <td>permanent</td>\n",
       "      <td>Gregory Martin International</td>\n",
       "      <td>Engineering Jobs</td>\n",
       "      <td>20000 - 40000/annum 20-40K</td>\n",
       "      <td>30000</td>\n",
       "      <td>cv-library.co.uk</td>\n",
       "    </tr>\n",
       "  </tbody>\n",
       "</table>\n",
       "</div>"
      ],
      "text/plain": [
       "         Id                             Title  \\\n",
       "0  12612628       Engineering Systems Analyst   \n",
       "1  12612830           Stress Engineer Glasgow   \n",
       "2  12612844  Modelling and simulation analyst   \n",
       "\n",
       "                                     FullDescription  \\\n",
       "0  Engineering Systems Analyst Dorking Surrey Sal...   \n",
       "1  Stress Engineer Glasgow Salary **** to **** We...   \n",
       "2  Mathematical Modeller / Simulation Analyst / O...   \n",
       "\n",
       "                         LocationRaw LocationNormalized ContractType  \\\n",
       "0            Dorking, Surrey, Surrey            Dorking          NaN   \n",
       "1        Glasgow, Scotland, Scotland            Glasgow          NaN   \n",
       "2  Hampshire, South East, South East          Hampshire          NaN   \n",
       "\n",
       "  ContractTime                       Company          Category  \\\n",
       "0    permanent  Gregory Martin International  Engineering Jobs   \n",
       "1    permanent  Gregory Martin International  Engineering Jobs   \n",
       "2    permanent  Gregory Martin International  Engineering Jobs   \n",
       "\n",
       "                    SalaryRaw  SalaryNormalized        SourceName  \n",
       "0  20000 - 30000/annum 20-30K             25000  cv-library.co.uk  \n",
       "1  25000 - 35000/annum 25-35K             30000  cv-library.co.uk  \n",
       "2  20000 - 40000/annum 20-40K             30000  cv-library.co.uk  "
      ]
     },
     "execution_count": 3,
     "metadata": {},
     "output_type": "execute_result"
    }
   ],
   "source": [
    "df_train.head(3)"
   ]
  },
  {
   "cell_type": "code",
   "execution_count": 4,
   "metadata": {},
   "outputs": [
    {
     "data": {
      "text/plain": [
       "35000    8820\n",
       "30000    8013\n",
       "40000    7382\n",
       "45000    6435\n",
       "25000    6044\n",
       "32500    5953\n",
       "37500    5497\n",
       "27500    5293\n",
       "50000    5205\n",
       "42500    4339\n",
       "22500    4169\n",
       "20000    4071\n",
       "55000    4029\n",
       "24000    3500\n",
       "18000    3155\n",
       "60000    3107\n",
       "47500    3020\n",
       "19000    2752\n",
       "26000    2539\n",
       "22000    2533\n",
       "21000    2505\n",
       "65000    2235\n",
       "28000    2187\n",
       "17000    2185\n",
       "52500    2147\n",
       "23000    2084\n",
       "27000    2055\n",
       "15000    2019\n",
       "29000    1991\n",
       "17500    1982\n",
       "         ... \n",
       "25419       1\n",
       "21325       1\n",
       "60250       1\n",
       "13249       1\n",
       "11202       1\n",
       "27594       1\n",
       "17359       1\n",
       "35926       1\n",
       "36567       1\n",
       "81505       1\n",
       "16462       1\n",
       "36439       1\n",
       "34903       1\n",
       "39125       1\n",
       "33110       1\n",
       "20940       1\n",
       "10819       1\n",
       "43603       1\n",
       "33494       1\n",
       "33622       1\n",
       "35671       1\n",
       "23501       1\n",
       "17614       1\n",
       "38100       1\n",
       "44371       1\n",
       "17870       1\n",
       "42450       1\n",
       "26186       1\n",
       "34390       1\n",
       "10245       1\n",
       "Name: SalaryNormalized, Length: 8279, dtype: int64"
      ]
     },
     "execution_count": 4,
     "metadata": {},
     "output_type": "execute_result"
    }
   ],
   "source": [
    "df_train['SalaryNormalized'].value_counts()"
   ]
  },
  {
   "cell_type": "code",
   "execution_count": 5,
   "metadata": {},
   "outputs": [
    {
     "data": {
      "text/plain": [
       "<matplotlib.axes._subplots.AxesSubplot at 0x2120faa7550>"
      ]
     },
     "execution_count": 5,
     "metadata": {},
     "output_type": "execute_result"
    },
    {
     "data": {
      "image/png": "[encoded data removed]",
      "text/plain": [
       "<Figure size 432x288 with 1 Axes>"
      ]
     },
     "metadata": {},
     "output_type": "display_data"
    }
   ],
   "source": [
    "import seaborn as sns\n",
    "%matplotlib inline\n",
    "sns.countplot(x= 'SalaryNormalized',data=df_train)"
   ]
  },
  {
   "cell_type": "markdown",
   "metadata": {},
   "source": [
    "Cada dato tiene 12 parámetros, estos se describen por si mismo. Id y SalaryNormalized representan valores enteros, el resto son strings.\n",
    "El arreglo es una matriz de 234768 x 12 donde cada fila es un dato con sus parámetros, algunas filas tienen parametros vacios.\n",
    "Se trata de un problema de  valoración"
   ]
  },
  {
   "cell_type": "markdown",
   "metadata": {},
   "source": [
    "> b) Extraiga los datos de cada conjunto con los que trabajará, el input  XX , los textos, y el output  yy , los salarios.\n"
   ]
  },
  {
   "cell_type": "markdown",
   "metadata": {},
   "source": [
    "Los datos que nos interesan para analizar serán aquellos que entregen información sobre el trabajo, sus características y requerimientos. La descripción del puesto, su categoria y el titulo profesional, ademas del tipo y tiempo de contrato y la compañía pueden afectar a dinero ofrecido. De igual manera la ubicación puede afectar."
   ]
  },
  {
   "cell_type": "code",
   "execution_count": 6,
   "metadata": {},
   "outputs": [
    {
     "ename": "MemoryError",
     "evalue": "",
     "output_type": "error",
     "traceback": [
      "\u001b[1;31m---------------------------------------------------------------------------\u001b[0m",
      "\u001b[1;31mMemoryError\u001b[0m                               Traceback (most recent call last)",
      "\u001b[1;32m<ipython-input-6-23c427f06073>\u001b[0m in \u001b[0;36m<module>\u001b[1;34m()\u001b[0m\n\u001b[0;32m      2\u001b[0m \u001b[0msalary\u001b[0m \u001b[1;33m=\u001b[0m \u001b[0mdf\u001b[0m\u001b[1;33m.\u001b[0m\u001b[0mSalaryNormalized\u001b[0m\u001b[1;33m\u001b[0m\u001b[0m\n\u001b[0;32m      3\u001b[0m \u001b[0mrows\u001b[0m \u001b[1;33m=\u001b[0m \u001b[1;33m[\u001b[0m\u001b[0mline\u001b[0m\u001b[1;33m.\u001b[0m\u001b[0msplit\u001b[0m\u001b[1;33m(\u001b[0m\u001b[1;34m\" \"\u001b[0m\u001b[1;33m)\u001b[0m \u001b[1;32mfor\u001b[0m \u001b[0mline\u001b[0m \u001b[1;32min\u001b[0m \u001b[0mtext\u001b[0m\u001b[1;33m]\u001b[0m\u001b[1;33m\u001b[0m\u001b[0m\n\u001b[1;32m----> 4\u001b[1;33m \u001b[0mdf_train\u001b[0m \u001b[1;33m=\u001b[0m \u001b[0mpd\u001b[0m\u001b[1;33m.\u001b[0m\u001b[0mDataFrame\u001b[0m\u001b[1;33m(\u001b[0m\u001b[0mrows\u001b[0m\u001b[1;33m,\u001b[0m \u001b[0mcolumns\u001b[0m\u001b[1;33m=\u001b[0m\u001b[1;33m[\u001b[0m\u001b[1;34m'Text'\u001b[0m\u001b[1;33m,\u001b[0m\u001b[1;34m'Salary'\u001b[0m\u001b[1;33m]\u001b[0m\u001b[1;33m)\u001b[0m\u001b[1;33m\u001b[0m\u001b[0m\n\u001b[0m\u001b[0;32m      5\u001b[0m \u001b[0mdf_train\u001b[0m\u001b[1;33m.\u001b[0m\u001b[0mhead\u001b[0m\u001b[1;33m(\u001b[0m\u001b[1;36m2\u001b[0m\u001b[1;33m)\u001b[0m\u001b[1;33m\u001b[0m\u001b[0m\n",
      "\u001b[1;32m~\\Anaconda3\\lib\\site-packages\\pandas\\core\\frame.py\u001b[0m in \u001b[0;36m__init__\u001b[1;34m(self, data, index, columns, dtype, copy)\u001b[0m\n\u001b[0;32m    385\u001b[0m                     \u001b[1;32mif\u001b[0m \u001b[0mis_named_tuple\u001b[0m\u001b[1;33m(\u001b[0m\u001b[0mdata\u001b[0m\u001b[1;33m[\u001b[0m\u001b[1;36m0\u001b[0m\u001b[1;33m]\u001b[0m\u001b[1;33m)\u001b[0m \u001b[1;32mand\u001b[0m \u001b[0mcolumns\u001b[0m \u001b[1;32mis\u001b[0m \u001b[1;32mNone\u001b[0m\u001b[1;33m:\u001b[0m\u001b[1;33m\u001b[0m\u001b[0m\n\u001b[0;32m    386\u001b[0m                         \u001b[0mcolumns\u001b[0m \u001b[1;33m=\u001b[0m \u001b[0mdata\u001b[0m\u001b[1;33m[\u001b[0m\u001b[1;36m0\u001b[0m\u001b[1;33m]\u001b[0m\u001b[1;33m.\u001b[0m\u001b[0m_fields\u001b[0m\u001b[1;33m\u001b[0m\u001b[0m\n\u001b[1;32m--> 387\u001b[1;33m                     \u001b[0marrays\u001b[0m\u001b[1;33m,\u001b[0m \u001b[0mcolumns\u001b[0m \u001b[1;33m=\u001b[0m \u001b[0m_to_arrays\u001b[0m\u001b[1;33m(\u001b[0m\u001b[0mdata\u001b[0m\u001b[1;33m,\u001b[0m \u001b[0mcolumns\u001b[0m\u001b[1;33m,\u001b[0m \u001b[0mdtype\u001b[0m\u001b[1;33m=\u001b[0m\u001b[0mdtype\u001b[0m\u001b[1;33m)\u001b[0m\u001b[1;33m\u001b[0m\u001b[0m\n\u001b[0m\u001b[0;32m    388\u001b[0m                     \u001b[0mcolumns\u001b[0m \u001b[1;33m=\u001b[0m \u001b[0m_ensure_index\u001b[0m\u001b[1;33m(\u001b[0m\u001b[0mcolumns\u001b[0m\u001b[1;33m)\u001b[0m\u001b[1;33m\u001b[0m\u001b[0m\n\u001b[0;32m    389\u001b[0m \u001b[1;33m\u001b[0m\u001b[0m\n",
      "\u001b[1;32m~\\Anaconda3\\lib\\site-packages\\pandas\\core\\frame.py\u001b[0m in \u001b[0;36m_to_arrays\u001b[1;34m(data, columns, coerce_float, dtype)\u001b[0m\n\u001b[0;32m   7432\u001b[0m     \u001b[1;32mif\u001b[0m \u001b[0misinstance\u001b[0m\u001b[1;33m(\u001b[0m\u001b[0mdata\u001b[0m\u001b[1;33m[\u001b[0m\u001b[1;36m0\u001b[0m\u001b[1;33m]\u001b[0m\u001b[1;33m,\u001b[0m \u001b[1;33m(\u001b[0m\u001b[0mlist\u001b[0m\u001b[1;33m,\u001b[0m \u001b[0mtuple\u001b[0m\u001b[1;33m)\u001b[0m\u001b[1;33m)\u001b[0m\u001b[1;33m:\u001b[0m\u001b[1;33m\u001b[0m\u001b[0m\n\u001b[0;32m   7433\u001b[0m         return _list_to_arrays(data, columns, coerce_float=coerce_float,\n\u001b[1;32m-> 7434\u001b[1;33m                                dtype=dtype)\n\u001b[0m\u001b[0;32m   7435\u001b[0m     \u001b[1;32melif\u001b[0m \u001b[0misinstance\u001b[0m\u001b[1;33m(\u001b[0m\u001b[0mdata\u001b[0m\u001b[1;33m[\u001b[0m\u001b[1;36m0\u001b[0m\u001b[1;33m]\u001b[0m\u001b[1;33m,\u001b[0m \u001b[0mcollections\u001b[0m\u001b[1;33m.\u001b[0m\u001b[0mMapping\u001b[0m\u001b[1;33m)\u001b[0m\u001b[1;33m:\u001b[0m\u001b[1;33m\u001b[0m\u001b[0m\n\u001b[0;32m   7436\u001b[0m         return _list_of_dict_to_arrays(data, columns,\n",
      "\u001b[1;32m~\\Anaconda3\\lib\\site-packages\\pandas\\core\\frame.py\u001b[0m in \u001b[0;36m_list_to_arrays\u001b[1;34m(data, columns, coerce_float, dtype)\u001b[0m\n\u001b[0;32m   7509\u001b[0m     \u001b[1;32melse\u001b[0m\u001b[1;33m:\u001b[0m\u001b[1;33m\u001b[0m\u001b[0m\n\u001b[0;32m   7510\u001b[0m         \u001b[1;31m# list of lists\u001b[0m\u001b[1;33m\u001b[0m\u001b[1;33m\u001b[0m\u001b[0m\n\u001b[1;32m-> 7511\u001b[1;33m         \u001b[0mcontent\u001b[0m \u001b[1;33m=\u001b[0m \u001b[0mlist\u001b[0m\u001b[1;33m(\u001b[0m\u001b[0mlib\u001b[0m\u001b[1;33m.\u001b[0m\u001b[0mto_object_array\u001b[0m\u001b[1;33m(\u001b[0m\u001b[0mdata\u001b[0m\u001b[1;33m)\u001b[0m\u001b[1;33m.\u001b[0m\u001b[0mT\u001b[0m\u001b[1;33m)\u001b[0m\u001b[1;33m\u001b[0m\u001b[0m\n\u001b[0m\u001b[0;32m   7512\u001b[0m     return _convert_object_array(content, columns, dtype=dtype,\n\u001b[0;32m   7513\u001b[0m                                  coerce_float=coerce_float)\n",
      "\u001b[1;32mpandas/_libs/src\\inference.pyx\u001b[0m in \u001b[0;36mpandas._libs.lib.to_object_array\u001b[1;34m()\u001b[0m\n",
      "\u001b[1;31mMemoryError\u001b[0m: "
     ]
    }
   ],
   "source": [
    "text = df.FullDescription\n",
    "salary = df.SalaryNormalized\n",
    "rows = [line.split(\" \") for line in text]\n",
    "df_train = pd.DataFrame(rows, columns=['Text','Salary'])\n",
    "df_train.head(2)\n"
   ]
  },
  {
   "cell_type": "markdown",
   "metadata": {},
   "source": [
    "> c) Realice un pre-procesamiento a los datos brutos de texto para extraer características y generar la representación de los datos de entrada al modelo $\\vec{x}$. Comente sobre lo realizado."
   ]
  },
  {
   "cell_type": "code",
   "execution_count": 7,
   "metadata": {},
   "outputs": [
    {
     "name": "stdout",
     "output_type": "stream",
     "text": [
      "[nltk_data] Downloading package stopwords to\n",
      "[nltk_data]     C:\\Users\\rosar\\AppData\\Roaming\\nltk_data...\n",
      "[nltk_data]   Package stopwords is already up-to-date!\n"
     ]
    },
    {
     "ename": "AttributeError",
     "evalue": "'str' object has no attribute 'decode'",
     "output_type": "error",
     "traceback": [
      "\u001b[1;31m---------------------------------------------------------------------------\u001b[0m",
      "\u001b[1;31mAttributeError\u001b[0m                            Traceback (most recent call last)",
      "\u001b[1;32m<ipython-input-7-c4b111e0ca03>\u001b[0m in \u001b[0;36m<module>\u001b[1;34m()\u001b[0m\n\u001b[0;32m     16\u001b[0m     \u001b[1;32mreturn\u001b[0m \u001b[0mwords\u001b[0m\u001b[1;33m\u001b[0m\u001b[0m\n\u001b[0;32m     17\u001b[0m \u001b[1;33m\u001b[0m\u001b[0m\n\u001b[1;32m---> 18\u001b[1;33m \u001b[0mprint\u001b[0m\u001b[1;33m(\u001b[0m\u001b[0mword_extractor1\u001b[0m\u001b[1;33m(\u001b[0m\u001b[1;34m'I love to eat cake'\u001b[0m\u001b[1;33m)\u001b[0m\u001b[1;33m)\u001b[0m\u001b[1;33m\u001b[0m\u001b[0m\n\u001b[0m\u001b[0;32m     19\u001b[0m \u001b[0mprint\u001b[0m\u001b[1;33m(\u001b[0m\u001b[0mword_extractor1\u001b[0m\u001b[1;33m(\u001b[0m\u001b[1;34m\"I love eating cake\"\u001b[0m\u001b[1;33m)\u001b[0m\u001b[1;33m)\u001b[0m\u001b[1;33m\u001b[0m\u001b[0m\n\u001b[0;32m     20\u001b[0m \u001b[0mprint\u001b[0m\u001b[1;33m(\u001b[0m\u001b[0mword_extractor1\u001b[0m\u001b[1;33m(\u001b[0m\u001b[1;34m\"I loved eating the cake\"\u001b[0m\u001b[1;33m)\u001b[0m\u001b[1;33m)\u001b[0m\u001b[1;33m\u001b[0m\u001b[0m\n",
      "\u001b[1;32m<ipython-input-7-c4b111e0ca03>\u001b[0m in \u001b[0;36mword_extractor1\u001b[1;34m(text)\u001b[0m\n\u001b[0;32m     10\u001b[0m     \u001b[0mtext\u001b[0m \u001b[1;33m=\u001b[0m \u001b[0mre\u001b[0m\u001b[1;33m.\u001b[0m\u001b[0msub\u001b[0m\u001b[1;33m(\u001b[0m\u001b[1;34mr'([a-z])\\1+'\u001b[0m\u001b[1;33m,\u001b[0m \u001b[1;34mr'\\1\\1'\u001b[0m\u001b[1;33m,\u001b[0m\u001b[0mtext\u001b[0m\u001b[1;33m)\u001b[0m\u001b[1;31m#substitute multiple letter by two\u001b[0m\u001b[1;33m\u001b[0m\u001b[0m\n\u001b[0;32m     11\u001b[0m     \u001b[0mwords\u001b[0m \u001b[1;33m=\u001b[0m \u001b[1;34m\"\"\u001b[0m\u001b[1;33m\u001b[0m\u001b[0m\n\u001b[1;32m---> 12\u001b[1;33m     \u001b[0mwordtokens\u001b[0m \u001b[1;33m=\u001b[0m \u001b[1;33m[\u001b[0m \u001b[0mwordlemmatizer\u001b[0m\u001b[1;33m.\u001b[0m\u001b[0mlemmatize\u001b[0m\u001b[1;33m(\u001b[0m\u001b[0mword\u001b[0m\u001b[1;33m.\u001b[0m\u001b[0mlower\u001b[0m\u001b[1;33m(\u001b[0m\u001b[1;33m)\u001b[0m\u001b[1;33m)\u001b[0m\u001b[1;32mfor\u001b[0m \u001b[0mword\u001b[0m \u001b[1;32min\u001b[0m \u001b[0mword_tokenize\u001b[0m\u001b[1;33m(\u001b[0m\u001b[0mtext\u001b[0m\u001b[1;33m.\u001b[0m\u001b[0mdecode\u001b[0m\u001b[1;33m(\u001b[0m\u001b[1;34m'utf-8'\u001b[0m\u001b[1;33m,\u001b[0m \u001b[1;34m'ignore'\u001b[0m\u001b[1;33m)\u001b[0m\u001b[1;33m)\u001b[0m \u001b[1;33m]\u001b[0m\u001b[1;33m\u001b[0m\u001b[0m\n\u001b[0m\u001b[0;32m     13\u001b[0m     \u001b[1;32mfor\u001b[0m \u001b[0mword\u001b[0m \u001b[1;32min\u001b[0m \u001b[0mwordtokens\u001b[0m\u001b[1;33m:\u001b[0m\u001b[1;33m\u001b[0m\u001b[0m\n\u001b[0;32m     14\u001b[0m         \u001b[1;32mif\u001b[0m \u001b[0mword\u001b[0m \u001b[1;32mnot\u001b[0m \u001b[1;32min\u001b[0m \u001b[0mcommonwords\u001b[0m\u001b[1;33m:\u001b[0m\u001b[1;33m\u001b[0m\u001b[0m\n",
      "\u001b[1;31mAttributeError\u001b[0m: 'str' object has no attribute 'decode'"
     ]
    }
   ],
   "source": [
    "import nltk\n",
    "nltk.download('stopwords')\n",
    "import re, time\n",
    "from nltk.corpus import stopwords\n",
    "from nltk import WordNetLemmatizer, word_tokenize\n",
    "from nltk.stem.porter import PorterStemmer\n",
    "def word_extractor1(text):\n",
    "    wordlemmatizer = WordNetLemmatizer()\n",
    "    commonwords = stopwords.words('english')\n",
    "    text = re.sub(r'([a-z])\\1+', r'\\1\\1',text)#substitute multiple letter by two\n",
    "    words = \"\"\n",
    "    wordtokens = [ wordlemmatizer.lemmatize(word.lower())for word in word_tokenize(text.decode('utf-8', 'ignore')) ]\n",
    "    for word in wordtokens:\n",
    "        if word not in commonwords:\n",
    "            words+=\" \"+word\n",
    "    return words\n",
    "\n",
    "print(word_extractor1('I love to eat cake'))\n",
    "print(word_extractor1(\"I love eating cake\"))\n",
    "print(word_extractor1(\"I loved eating the cake\"))\n",
    "print(word_extractor1(\"I do not love eating cake\"))\n",
    "print(word_extractor1(\"I don't love eating cake\"))"
   ]
  },
  {
   "cell_type": "raw",
   "metadata": {},
   "source": [
    "> d) Intente resolver el problema enfrentándolo como regresión con el modelo de regresión lineal ordinaria en *sklearn*. ¿Qué es lo que hace *fit_intercept=True*? Evalúe la función objetivo (F.O.) utilizada y la métrica de la competencia (*mean absolute error*) en ambos conjuntos generados en el punto a). Comente lo observado."
   ]
  },
  {
   "cell_type": "code",
   "execution_count": null,
   "metadata": {},
   "outputs": [],
   "source": [
    "from sklearn.linear_model import LinearRegression as LR\n",
    "model = LR(fit_intercept=True, normalize=False)\n",
    "model.fit(text,salary)\n",
    "\n",
    "#measure F.O.\n",
    "y=df.array(salary)\n",
    "x=df.array(text)\n",
    "\n",
    "mean_absolute_error=MAE\n",
    "\n",
    "from sklearn.metrics import mean_absolute_error #measure MAE\n",
    "print(\"MAE on train: \",mean_absolute_error(salary, model.predict(text))\n",
    "#print(\"MAE on validation: \",mean_absolute_error(salary, model.predict(text)))"
   ]
  },
  {
   "cell_type": "markdown",
   "metadata": {},
   "source": [
    "## Parte 3:\n",
    "\n",
    "Para el desarrollo de la parte 3 se desarrollaron funciones que satisfacen lo estipulado en cada item y considerando además la incertidumbre sobre si realmente la pendiente b que estamos buscando es constante, ya que la funcion gradiente de b que podemos obtener analiticamente dependerá de los puntos a considerar a no ser que se fijen las condiciones necesarias que veremos más adelante."
   ]
  },
  {
   "cell_type": "code",
   "execution_count": 8,
   "metadata": {},
   "outputs": [],
   "source": [
    "def productopunto(x,b):\n",
    "    b = np.asarray(b)\n",
    "    x = np.asarray(x)\n",
    "    prod = 0\n",
    "    for i in range(b.size):\n",
    "        prod = prod + b[i]*x[i]\n",
    "    return prod;"
   ]
  },
  {
   "cell_type": "markdown",
   "metadata": {},
   "source": [
    "A continuación se resumen las funciones generadas en la parte a considerando el caso de una dimension (loss_1) y una para varias dimensiones (loss_n) (parte a)"
   ]
  },
  {
   "cell_type": "code",
   "execution_count": 9,
   "metadata": {},
   "outputs": [],
   "source": [
    "\n",
    "def loss_1(b,x,y):\n",
    "    #Esto fue introducido para que python reconozca los arreglos recibidos\n",
    "    b = np.asarray(b) # b es la pendiente que queremos encontrar\n",
    "    x = np.asarray(x)# x corresponde al eje x\n",
    "    y = np.asarray(y)# y corresponde al eje y\n",
    "    loss=0\n",
    "    n = y.size\n",
    "    for i in range(n):\n",
    "        loss = loss + ((b[i]*x[i] - y[i] )**2)/n# mas que nada aqui calculamos la funcion perdida.\n",
    "    return loss\n",
    "\n",
    "def loss_n(b,x,y):\n",
    "    b = np.asarray(b)\n",
    "    x = np.asarray(x)\n",
    "    y = np.asarray(y)\n",
    "    nx = np.shape(x)\n",
    "    loss=0\n",
    "    for i in range(nx[1]):\n",
    "        p_product = productopunto(x[i],b)#en varias variablesconsideramos bx como un funcional de R^n -> R   con n>1 \n",
    "        loss = loss +  ((p_product - y[i])**2)/nx[0]\n",
    "    return loss; \n"
   ]
  },
  {
   "cell_type": "markdown",
   "metadata": {},
   "source": [
    "La parte siguiente corresponde al calculo del gradiente para ser empleado en los otros ejercicios, esto sería equivalente a la parte (b)"
   ]
  },
  {
   "cell_type": "code",
   "execution_count": 10,
   "metadata": {},
   "outputs": [],
   "source": [
    "def grad_1(b,x,y):\n",
    "    grad = 0\n",
    "    b = np.asarray(b)\n",
    "    x = np.asarray(x)\n",
    "    y = np.asarray(y)\n",
    "    n = y.size\n",
    "    for i in range(n):\n",
    "        grad = grad + (x[i]*(b[i]*x[i] - y[i] )*2)/n # es el producto punto.\n",
    "    return grad;\n",
    "def grad_n(b,x,y):\n",
    "    grad = 0\n",
    "    b = np.asarray(b)\n",
    "    x = np.asarray(x)\n",
    "    y = np.asarray(y)\n",
    "    nx = np.shape(x)\n",
    "    for i in range(nx[1]):\n",
    "        p_product = productopunto(x[i],b)\n",
    "        grad = grad + (np.multiply(X[i],(p_product - Y[i] )*2*(1/nx[0])))\n",
    "    return grad;        "
   ]
  },
  {
   "cell_type": "markdown",
   "metadata": {},
   "source": [
    "Para la parte c con la ayuda de los apuntes del curso y la bibliografia se crearon dos funciones que calculan la derivada analiticamente para 1 dimension (R->R ) y para (R^n -> R)"
   ]
  },
  {
   "cell_type": "code",
   "execution_count": 11,
   "metadata": {},
   "outputs": [],
   "source": [
    "#dados dos puntos x,y, estas funciones calculan el gradiente respecto a los valores entregados a la funcion\n",
    "\n",
    "def grad_1real(x,y): # la derivada en una dimension\n",
    "    x = np.asarray(x)\n",
    "    y = np.asarray(y)\n",
    "    b = 0    \n",
    "    n = y.size\n",
    "    if x!=0: \n",
    "        b = (y/x) \n",
    "    else:\n",
    "        b = 0 \n",
    "    return b\n",
    "# aqui se entregan balores para x,y, pero consideraremos x como un vector de n dimensiones\n",
    "def grad_nreal(x,y):#Esto fue una prueba considerando varias dimensiones para el dominio y la pendiente no consante\n",
    "    x = np.asarray(x)#Qué sucedería con nuestra regresion si se aproxima a la pendiente más pequeña o la más grande?\n",
    "    y = np.asarray(y)#solucion: el error seguiria siendo alto\n",
    "    nx = np.shape(x)\n",
    "    b = np.zeros(nx[1]) \n",
    "    temp = np.zeros(nx[1])\n",
    "    error_temp = 8888\n",
    "    for i in range(nx[1]):\n",
    "        rest = productopunto(x[i],x[i])\n",
    "        if rest!=0: \n",
    "            b = (1/rest)*(y[i]*x[i]) \n",
    "            loss = loss_n(b,x,y)\n",
    "            if loss<error_temp:\n",
    "                temp = b\n",
    "                error_temp = loss\n",
    "            else:\n",
    "                continue\n",
    "    return b"
   ]
  },
  {
   "cell_type": "code",
   "execution_count": 12,
   "metadata": {},
   "outputs": [],
   "source": [
    "#Parte C\n",
    "def grad_analitico(x,y):\n",
    "    x = np.asarray(x)#Qué sucedería con nuestra regresion si se aproxima a la pendiente más pequeña o la más grande?\n",
    "    y = np.asarray(y)#solucion: el error seguiria siendo alto\n",
    "    nx = np.shape(x)\n",
    "    b = np.zeros(nx[1])\n",
    "    x_tr =x.transpose() \n",
    "    x_trx_inv = np.linalg.inv(np.matmul(x_tr,x))\n",
    "    b = (np.matmul(x_trx_inv,x_tr)).dot(y)\n",
    "    return b"
   ]
  },
  {
   "cell_type": "markdown",
   "metadata": {},
   "source": [
    "A continuación se presenta el algoritmo de entrenamiento con una condición extra que consiste en añadir un número finito de iteraciones para evitar loops largos."
   ]
  },
  {
   "cell_type": "code",
   "execution_count": 13,
   "metadata": {},
   "outputs": [],
   "source": [
    "def SGD(x,y,nn, tol):#esta funcion solo se creo en varias variables por el hecho de que en una variable es más directo\n",
    "    x = np.asarray(x)\n",
    "    y = np.asarray(y)\n",
    "    nx = np.shape(x)\n",
    "    b = np.zeros(nx[1])#genero un vector b de las dimensiones de x\n",
    "    dummycontrol = 0 # es una variable para evitar loop infinitos y acabar de golpe.\n",
    "    grad_f = 0\n",
    "    loss = 5000\n",
    "    while loss >  tol and dummycontrol <= 1000000000:\n",
    "        grad_f = grad_n(b,x,y)#se utilizan las tres funciones para calcular el gradiente\n",
    "        b = b - np.multiply(nn,grad_f)# emplear el algoritmo\n",
    "        loss = loss_n(b,x,y)# calcular el error asociado y esperar de buena fe que sea menor a la tolerancia aceptada\n",
    "        dummycontrol+= 1\n",
    "    return b\n",
    "    \n",
    "def SGD_it_error(x,y,nn,it):\n",
    "    x = np.asarray(x)\n",
    "    y = np.asarray(y)\n",
    "    nx = np.shape(x)\n",
    "    y_loss = np.zeros(1000)\n",
    "    b = np.zeros(nx[1])#genero un vector b de las dimensiones de x\n",
    "    dummycontrol = 0 # es una variable para evitar loop infinitos y acabar de golpe.\n",
    "    grad_f = 0\n",
    "    loss = 5000\n",
    "    while dummycontrol < it:\n",
    "        grad_f = grad_n(b,x,y)#se utilizan las tres funciones para calcular el gradiente\n",
    "        b = b - nn*grad_f# emplear el algoritmo\n",
    "        loss = loss_n(b,x,y)# calcular el error asociado y esperar de buena fe que sea menor a la tolerancia aceptada\n",
    "        y_loss[dummycontrol] = loss\n",
    "        dummycontrol+= 1\n",
    "    return  y_loss;"
   ]
  },
  {
   "cell_type": "code",
   "execution_count": 14,
   "metadata": {},
   "outputs": [
    {
     "data": {
      "image/png": "[encoded data removed]",
      "text/plain": [
       "<Figure size 432x288 with 1 Axes>"
      ]
     },
     "metadata": {},
     "output_type": "display_data"
    }
   ],
   "source": [
    "#Parte D\n",
    "import matplotlib.pyplot as plt # grafico del error\n",
    "from sklearn.datasets import load_boston\n",
    "import numpy as np\n",
    "from sklearn.preprocessing import StandardScaler\n",
    "import matplotlib.pyplot as plt \n",
    "X_train,y_train = load_boston(return_X_y=True)\n",
    "scaler = StandardScaler().fit(X_train)\n",
    "X_train = scaler.transform(X_train)#cada vector tiene 13 componentes y son 506 los que entrega\n",
    "X = X_train\n",
    "Y = y_train\n",
    "x_loss = np.arange(1000)#nro iteraciones\n",
    "y_loss = SGD_it_error(X,Y,0.5,1000)\n",
    "plt.plot(x_loss,y_loss)\n",
    "plt.show() \n",
    "        \n",
    "    \n",
    "#https://gluon.mxnet.io/chapter06_optimization/gd-sgd-scratch.html\n",
    " "
   ]
  },
  {
   "cell_type": "markdown",
   "metadata": {},
   "source": [
    "Para la parte F consideraremos solo los print con coeficientes de 0.1 a 0.1 sin incluir los bordes del intervalo (0,1) a partir de las funciones antes creadas."
   ]
  },
  {
   "cell_type": "code",
   "execution_count": 15,
   "metadata": {},
   "outputs": [
    {
     "name": "stdout",
     "output_type": "stream",
     "text": [
      "Con coeficiente de aprendizaje = 0.1,\n",
      "b =  [-2.83444559 -2.46408404 -3.94024081 -1.87248978 -4.34110785  4.01439056\n",
      " -1.85483104  5.00240588 -4.44824688 -5.95803226 -4.12393269  2.88457616\n",
      " -0.91099871]\n",
      "Con error =  0.2999947261157933\n",
      "Con coeficiente de aprendizaje = 0.2,\n",
      "b =  [-2.83464056 -2.46461257 -3.93942755 -1.87261068 -4.34158489  4.0153347\n",
      " -1.85561431  5.00201784 -4.44832633 -5.95840239 -4.12410126  2.88479753\n",
      " -0.91006889]\n",
      "Con error =  0.2999645715580321\n",
      "Con coeficiente de aprendizaje = 0.3,\n",
      "b =  [-2.83449517 -2.46433694 -3.939924   -1.87252553 -4.34132347  4.01488032\n",
      " -1.85526124  5.00244158 -4.44829283 -5.95819002 -4.12382812  2.8845902\n",
      " -0.91040734]\n",
      "Con error =  0.2999809607989272\n",
      "Con coeficiente de aprendizaje = 0.4,\n",
      "b =  [-2.83434974 -2.46406125 -3.9404207  -1.87244035 -4.34106202  4.01442564\n",
      " -1.85490793  5.00286551 -4.44825923 -5.9579776  -4.12355477  2.88438283\n",
      " -0.91074593]\n",
      "Con error =  0.29999736152821377\n",
      "Con coeficiente de aprendizaje = 0.5,\n",
      "b =  [-2.83505536 -2.46579535 -3.93764243 -1.87287038 -4.34264611  4.01746768\n",
      " -1.85739655  5.00125857 -4.44850847 -5.95922113 -4.12438785  2.88524738\n",
      " -0.90791468]\n",
      "Con error =  0.2998974423522696\n",
      "Con coeficiente de aprendizaje = 0.6,\n",
      "b =  [-2.83508021 -2.46592173 -3.93748368 -1.8728883  -4.34275386  4.01771291\n",
      " -1.85761235  5.00127608 -4.44853155 -5.95929999 -4.12433613  2.88525443\n",
      " -0.90761887]\n",
      "Con error =  0.2998905626999678\n",
      "Con coeficiente de aprendizaje = 0.7,\n",
      "b =  [-2.83510507 -2.46604813 -3.93732489 -1.87290621 -4.34286162  4.01795821\n",
      " -1.85782829  5.0012936  -4.44855464 -5.95937885 -4.12428444  2.88526149\n",
      " -0.90732296]\n",
      "Con error =  0.29988368217265926\n",
      "Con coeficiente de aprendizaje = 0.8,\n",
      "b =  [-2.83512994 -2.46617455 -3.93716605 -1.87292414 -4.34296939  4.01820358\n",
      " -1.85804438  5.00131112 -4.44857773 -5.95945772 -4.12423279  2.88526855\n",
      " -0.90702696]\n",
      "Con error =  0.29987680077022133\n",
      "Con coeficiente de aprendizaje = 0.9,\n",
      "b =  [-2.83566524 -2.46750459 -3.93504362 -1.87325103 -4.34418253  4.02054411\n",
      " -1.85996357  5.00010844 -4.44877069 -5.96040884 -4.12484773  2.88591882\n",
      " -0.90483385]\n",
      "Con error =  0.2998003404534236\n"
     ]
    }
   ],
   "source": [
    "#Parte F\n",
    "from sklearn.datasets import load_boston\n",
    "import numpy as np\n",
    "from sklearn.preprocessing import StandardScaler\n",
    "import matplotlib.pyplot as plt \n",
    "X_train,y_train = load_boston(return_X_y=True)\n",
    "scaler = StandardScaler().fit(X_train)\n",
    "X_train = scaler.transform(X_train)#cada vector tiene 13 componentes y son 506 los que entrega\n",
    "X = X_train\n",
    "Y = y_train\n",
    "count = 0\n",
    "tol = 0.3\n",
    "b1 = SGD(X,Y, 0.1, tol)\n",
    "print(\"Con coeficiente de aprendizaje = 0.1,\")\n",
    "print(\"b = \", b1)\n",
    "print(\"Con error = \", loss_n(b1,X,Y))\n",
    "b2 = SGD(X,Y, 0.2, tol)\n",
    "print(\"Con coeficiente de aprendizaje = 0.2,\")\n",
    "print(\"b = \",b2)\n",
    "print(\"Con error = \", loss_n(b2,X,Y))\n",
    "b3 = SGD(X,Y, 0.3, tol)\n",
    "print(\"Con coeficiente de aprendizaje = 0.3,\")\n",
    "print(\"b = \", b3)\n",
    "print(\"Con error = \", loss_n(b3,X,Y))\n",
    "b4 = SGD(X,Y, 0.4, tol)\n",
    "print(\"Con coeficiente de aprendizaje = 0.4,\")\n",
    "print(\"b = \", b4)\n",
    "print(\"Con error = \", loss_n(b4,X,Y))\n",
    "b5 = SGD(X,Y, 0.5, tol)\n",
    "print(\"Con coeficiente de aprendizaje = 0.5,\")\n",
    "print(\"b = \", b5)\n",
    "print(\"Con error = \", loss_n(b5,X,Y))\n",
    "b6 = SGD(X,Y, 0.6, tol)\n",
    "print(\"Con coeficiente de aprendizaje = 0.6,\")\n",
    "print(\"b = \", b6)\n",
    "print(\"Con error = \", loss_n(b6,X,Y))\n",
    "b7 = SGD(X,Y, 0.7, tol)\n",
    "print(\"Con coeficiente de aprendizaje = 0.7,\")\n",
    "print(\"b = \", b7)\n",
    "print(\"Con error = \", loss_n(b7,X,Y))\n",
    "b8 = SGD(X,Y, 0.8, tol)\n",
    "print(\"Con coeficiente de aprendizaje = 0.8,\")\n",
    "print(\"b = \", b8)\n",
    "print(\"Con error = \", loss_n(b8,X,Y))\n",
    "b9 = SGD(X,Y, 0.9, tol)\n",
    "print(\"Con coeficiente de aprendizaje = 0.9,\")\n",
    "print(\"b = \", b9)\n",
    "print(\"Con error = \", loss_n(b9,X,Y))\n",
    "\n",
    "\n"
   ]
  },
  {
   "cell_type": "markdown",
   "metadata": {},
   "source": [
    "note que para los datos que tenemos a pesar de ser XXX, se consideraron todos como datos de entrenamiento y por el hecho de que el conjunto de los números reales es no numerable, falta información en el entrenamiento para tener una pendiente b más precisa y además que a medida que se incrementa el coeficiente, los valores obtenidos aumentan hasta cierto punto donde empiezan a decrecer, lo que nos da pistas acerca del minimo global que claramente es donde el algoritmo SGD que con toques del teorema del punto fijo de Banach sobre las pendientes hasta converger a cero donde obtenemos el x que estamos buscando, el cual es XXX y se llega más cerca cuando el coeficiente de aprendisaje XXX."
   ]
  },
  {
   "cell_type": "markdown",
   "metadata": {},
   "source": [
    "por lo que entendi se utiliza el teorema del punto fijo de banach para dar existencia a un punto fijo, pero esto se aplica sobre las pendientes de la función loss sobre los datos que estamos tomando, por lo que cada vez el gradiente se acerca a cero y converge al minimo que estamos buscando para la regresión lineal. Por otra parte, cabe destacar que al considerar una regresión lineal para los datos en cuestión, el error es alto por lo dispersos que están los datos y por el hecho de que el gradiente calculado analiticamente es una función que va desde Grad: R^13 -> L(R^13,R), el gradiente nos lleva desde el dominio al espacio de los funcionales continuos y acotados, por lo que el gradiente no considera necesariamente a la pendiente como un vector constante."
   ]
  },
  {
   "cell_type": "code",
   "execution_count": 16,
   "metadata": {},
   "outputs": [
    {
     "name": "stdout",
     "output_type": "stream",
     "text": [
      "[-0.92041113  1.08098058  0.14296712  0.68220346 -2.06009246  2.67064141\n",
      "  0.02112063 -3.10444805  2.65878654 -2.07589814 -2.06215593  0.85664044\n",
      " -3.74867982]\n"
     ]
    }
   ],
   "source": [
    "\n",
    "b = grad_analitico(X,Y)\n",
    "\n",
    "print(b)"
   ]
  },
  {
   "cell_type": "code",
   "execution_count": 17,
   "metadata": {},
   "outputs": [],
   "source": [
    "# Parte F considerando una porcion aleatoria de datos \n",
    "#index = np.zeros(250)\n",
    "#dummycount = 0\n",
    "#dummyindex = 0\n",
    "#tol = 0.3\n",
    "#train_x = np.zeros((250,13))\n",
    "#train_y = np.zeros(250)\n",
    "#for i in range (250):\n",
    "#    train_x[dummyindex] = X[dummycount]\n",
    "#    train_y[dummyindex] = Y[dummycount]\n",
    "#    dummycount+=2\n",
    "#    dummyindex+=1\n",
    "#b =SGD(train_x,train_y,0.01,tol)\n",
    "#print(\"error = \",loss_n(b,X,Y))\n",
    "#print(b)"
   ]
  },
  {
   "cell_type": "code",
   "execution_count": null,
   "metadata": {},
   "outputs": [],
   "source": []
  }
 ],
 "metadata": {
  "kernelspec": {
   "display_name": "Python 3",
   "language": "python",
   "name": "python3"
  },
  "language_info": {
   "codemirror_mode": {
    "name": "ipython",
    "version": 3
   },
   "file_extension": ".py",
   "mimetype": "text/x-python",
   "name": "python",
   "nbconvert_exporter": "python",
   "pygments_lexer": "ipython3",
   "version": "3.6.5"
  }
 },
 "nbformat": 4,
 "nbformat_minor": 2
}
